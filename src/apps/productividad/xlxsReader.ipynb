{
 "cells": [
  {
   "cell_type": "code",
   "execution_count": 6,
   "id": "a64d996f",
   "metadata": {
    "scrolled": true
   },
   "outputs": [],
   "source": [
    "import math\n",
    "from openpyxl import load_workbook\n",
    "from unipath import Path\n",
    "import os\n",
    "from django.core import exceptions\n",
    "\n",
    "base = Path('d:\\\\', 'Users', 'javier', 'tmp')\n",
    "r06 = Path(base, 'mac_06.xlsx')\n",
    "r07 = Path(base, 'mac_07.xlsx')\n",
    "r07b = Path(base, 'mac_07b.xlsx')\n",
    "# wb6 = load_workbook(filename = r06)\n",
    "# wb7 = load_workbook(filename = r07)\n",
    "# wb7b = load_workbook(filename = r07b)\n",
    "# ws6 = wb6['2021_06']\n",
    "# ws7 = wb7['2021_06']\n",
    "# ws7b = wb7b['2021_06']"
   ]
  },
  {
   "cell_type": "code",
   "execution_count": 7,
   "id": "9b67711c",
   "metadata": {},
   "outputs": [],
   "source": [
    "def get_int(celda):\n",
    "    \"\"\"Convierte el valor de una celda en entero\"\"\"\n",
    "    if celda.value == '':\n",
    "        return 0\n",
    "    try:\n",
    "        if celda.ctype != 2:\n",
    "            return 0\n",
    "        return math.ceil(celda.value)\n",
    "    except ValueError:\n",
    "        return 0\n",
    "\n",
    "\n",
    "def get_float(celda):\n",
    "    \"\"\"\"Convierte el valor de una celda en un número flotante\"\"\"\n",
    "    # valor = 0\n",
    "    try:\n",
    "        valor = float(celda.value)\n",
    "    except ValueError:\n",
    "        valor = 0\n",
    "    return valor"
   ]
  },
  {
   "cell_type": "code",
   "execution_count": 40,
   "id": "ff93a1e9",
   "metadata": {},
   "outputs": [],
   "source": [
    "def get_data_excel(file):\n",
    "    try: \n",
    "        wb = load_workbook(filename = file, data_only=True)\n",
    "    except Exception: \n",
    "        raise BadRequest(e)\n",
    "    ws = wb.active\n",
    "    remesa = ws['J7'].value[8:15]\n",
    "    observaciones = ws['A41'].value\n",
    "    macs = {}\n",
    "    \n",
    "    for row in range(9, 22):\n",
    "        mac = ws[row]\n",
    "        try:\n",
    "            _mac = str(mac[0].value)\n",
    "            if _mac[:3] == '290':\n",
    "                macs[_mac] = {\n",
    "                    'distrito': _mac[2:4],\n",
    "                    'type': mac[1].value,\n",
    "                    'days_worked': mac[2].value,\n",
    "                    'hours_worked': mac[3].value,\n",
    "                    'setup': mac[4].value,\n",
    "                    'tramites_aplicados': mac[5].value,\n",
    "                    'cards_by_update': mac[6].value,\n",
    "                    'total_atenciones': mac[7].value,\n",
    "                    'numbers_by_day': mac[8].value,\n",
    "                    'numbers_by_machine_by_day': mac[9].value,\n",
    "                    'credenciales_recibidas': mac[11].value\n",
    "                }\n",
    "        except ValueError:\n",
    "            pass\n",
    "    \n",
    "    return remesa, observaciones, macs\n",
    "\n",
    "r, o, macs = get_data_excel(r07b)"
   ]
  },
  {
   "cell_type": "code",
   "execution_count": 41,
   "id": "b2ad5ad8",
   "metadata": {},
   "outputs": [
    {
     "name": "stdout",
     "output_type": "stream",
     "text": [
      "2021_07\n"
     ]
    }
   ],
   "source": [
    "print(r)"
   ]
  },
  {
   "cell_type": "code",
   "execution_count": 39,
   "id": "81e7d754",
   "metadata": {},
   "outputs": [
    {
     "data": {
      "text/plain": [
       "<QuerySet [{'id': 133, 'created': datetime.datetime(2021, 7, 24, 1, 47, 15, 283292, tzinfo=<UTC>), 'updated': datetime.datetime(2021, 7, 24, 1, 48, 27, 576021, tzinfo=<UTC>), 'fecha_corte': datetime.date(2021, 2, 7), 'remesa': '2021-06', 'notas': 'En está remesa no se presento ninguna incidencia que suspendiera el servicio en los Módulos de Atención Ciudadana.', 'archivo': 'D:/Users/javier/Projects/cerebro/src/apps/media/productividad/remesa-20210207.xlsx', 'usuario_id': 8}]>"
      ]
     },
     "execution_count": 39,
     "metadata": {},
     "output_type": "execute_result"
    }
   ],
   "source": [
    "import os\n",
    "import django\n",
    "os.environ[\"DJANGO_ALLOW_ASYNC_UNSAFE\"] = \"true\"\n",
    "django.setup()\n",
    "INICIO = '2021-01-18'\n",
    "FINAL = '2021-12-31'\n",
    "\n",
    "from apps.productividad.models import Reporte\n",
    "reportes = Reporte.objects.filter(fecha_corte__gte=INICIO, fecha_corte__lte=FINAL).order_by('fecha_corte')\n",
    "reportes.values()"
   ]
  },
  {
   "cell_type": "code",
   "execution_count": 25,
   "id": "9a32ec59",
   "metadata": {},
   "outputs": [],
   "source": []
  },
  {
   "cell_type": "code",
   "execution_count": null,
   "id": "ede7fd29",
   "metadata": {},
   "outputs": [],
   "source": []
  }
 ],
 "metadata": {
  "kernelspec": {
   "display_name": "Django Shell-Plus",
   "language": "python",
   "name": "django_extensions"
  },
  "language_info": {
   "codemirror_mode": {
    "name": "ipython",
    "version": 3
   },
   "file_extension": ".py",
   "mimetype": "text/x-python",
   "name": "python",
   "nbconvert_exporter": "python",
   "pygments_lexer": "ipython3",
   "version": "3.9.6"
  }
 },
 "nbformat": 4,
 "nbformat_minor": 5
}
