{
 "cells": [
  {
   "cell_type": "code",
   "execution_count": 6,
   "id": "a64d996f",
   "metadata": {
    "scrolled": true
   },
   "outputs": [],
   "source": [
    "import math\n",
    "from openpyxl import load_workbook\n",
    "from unipath import Path\n",
    "import os\n",
    "from django.core import exceptions\n",
    "\n",
    "base = Path('d:\\\\', 'Users', 'javier', 'tmp')\n",
    "r06 = Path(base, 'mac_06.xlsx')\n",
    "r07 = Path(base, 'mac_07.xlsx')\n",
    "r07b = Path(base, 'mac_07b.xlsx')\n",
    "# wb6 = load_workbook(filename = r06)\n",
    "# wb7 = load_workbook(filename = r07)\n",
    "# wb7b = load_workbook(filename = r07b)\n",
    "# ws6 = wb6['2021_06']\n",
    "# ws7 = wb7['2021_06']\n",
    "# ws7b = wb7b['2021_06']"
   ]
  },
  {
   "cell_type": "code",
   "execution_count": 7,
   "id": "9b67711c",
   "metadata": {},
   "outputs": [],
   "source": [
    "def get_int(celda):\n",
    "    \"\"\"Convierte el valor de una celda en entero\"\"\"\n",
    "    if celda.value == '':\n",
    "        return 0\n",
    "    try:\n",
    "        if celda.ctype != 2:\n",
    "            return 0\n",
    "        return math.ceil(celda.value)\n",
    "    except ValueError:\n",
    "        return 0\n",
    "\n",
    "\n",
    "def get_float(celda):\n",
    "    \"\"\"\"Convierte el valor de una celda en un número flotante\"\"\"\n",
    "    # valor = 0\n",
    "    try:\n",
    "        valor = float(celda.value)\n",
    "    except ValueError:\n",
    "        valor = 0\n",
    "    return valor"
   ]
  },
  {
   "cell_type": "code",
   "execution_count": 14,
   "id": "ff93a1e9",
   "metadata": {},
   "outputs": [],
   "source": [
    "def get_data_excel(file):\n",
    "    try: \n",
    "        wb = load_workbook(filename = file, data_only=True)\n",
    "    except Exception: \n",
    "        raise BadRequest(e)\n",
    "    ws = wb.active\n",
    "    remesa = ws['J7'].value[8:15]\n",
    "    observaciones = ws['A41'].value\n",
    "    macs = {}\n",
    "    \n",
    "    for row in range(9, 22):\n",
    "        mac = ws[row]\n",
    "        try:\n",
    "            _mac = str(mac[0].value)\n",
    "            if _mac[:3] == '290':\n",
    "                macs[_mac] = {\n",
    "                    'distrito': _mac[2:4],\n",
    "                    'type': mac[1].value,\n",
    "                    'days_worked': mac[2].value,\n",
    "                    'hours_worked': mac[3].value,\n",
    "                    'setup': mac[4].value,\n",
    "                    'tramites_aplicados': mac[5].value,\n",
    "                    'cards_by_update': mac[6].value,\n",
    "                    'total_atenciones': mac[7].value,\n",
    "                    'numbers_by_day': mac[8].value,\n",
    "                    'numbers_by_machine_by_day': mac[9].value,\n",
    "                    'credenciales_recibidas': mac[11].value\n",
    "                }\n",
    "        except ValueError:\n",
    "            pass\n",
    "    \n",
    "    return remesa, observaciones, macs\n",
    "\n",
    "r, o, macs = get_data_excel(r06)"
   ]
  },
  {
   "cell_type": "code",
   "execution_count": 17,
   "id": "b2ad5ad8",
   "metadata": {},
   "outputs": [
    {
     "name": "stdout",
     "output_type": "stream",
     "text": [
      "{'290151': {'distrito': '01', 'type': 'Fijo Dist.', 'days_worked': 6.5, 'hours_worked': 10.2, 'setup': 'B+3', 'tramites_aplicados': 1482, 'cards_by_update': 17, 'total_atenciones': 1499, 'numbers_by_day': 230.6153846153846, 'numbers_by_machine_by_day': 57.65384615384615, 'credenciales_recibidas': 1304}, '290152': {'distrito': '01', 'type': 'Fijo Adic.', 'days_worked': 6.5, 'hours_worked': 10.2, 'setup': 'B+2', 'tramites_aplicados': 1282, 'cards_by_update': 68, 'total_atenciones': 1350, 'numbers_by_day': 207.69230769230768, 'numbers_by_machine_by_day': 69.23076923076923, 'credenciales_recibidas': 357}, '290153': {'distrito': '01', 'type': 'Móvil', 'days_worked': 6.5, 'hours_worked': 6.5, 'setup': 'B', 'tramites_aplicados': 330, 'cards_by_update': 21, 'total_atenciones': 351, 'numbers_by_day': 54, 'numbers_by_machine_by_day': 54, 'credenciales_recibidas': 339}, '290154': {'distrito': '01', 'type': 'Móvil', 'days_worked': 6.5, 'hours_worked': 6.5, 'setup': 'B', 'tramites_aplicados': 211, 'cards_by_update': 73, 'total_atenciones': 284, 'numbers_by_day': 43.69230769230769, 'numbers_by_machine_by_day': 43.69230769230769, 'credenciales_recibidas': 273}, '290251': {'distrito': '02', 'type': 'Fijo Dist.', 'days_worked': 6.5, 'hours_worked': 10.2, 'setup': 'B+5', 'tramites_aplicados': 1971, 'cards_by_update': 16, 'total_atenciones': 1987, 'numbers_by_day': 305.6923076923077, 'numbers_by_machine_by_day': 50.94871794871795, 'credenciales_recibidas': 1236}, '290253': {'distrito': '02', 'type': 'Fijo Adic.', 'days_worked': 6.5, 'hours_worked': 10.2, 'setup': 'B+1', 'tramites_aplicados': 682, 'cards_by_update': 132, 'total_atenciones': 814, 'numbers_by_day': 125.23076923076923, 'numbers_by_machine_by_day': 62.61538461538461, 'credenciales_recibidas': 332}, '290254': {'distrito': '02', 'type': 'Semifijo', 'days_worked': 6.5, 'hours_worked': 6.5, 'setup': 'B+1', 'tramites_aplicados': 408, 'cards_by_update': 36, 'total_atenciones': 444, 'numbers_by_day': 68.3076923076923, 'numbers_by_machine_by_day': 34.15384615384615, 'credenciales_recibidas': 342}, '290291': {'distrito': '02', 'type': 'Móvil', 'days_worked': 1, 'hours_worked': 1, 'setup': 'B', 'tramites_aplicados': 1, 'cards_by_update': 0, 'total_atenciones': 1, 'numbers_by_day': 1, 'numbers_by_machine_by_day': 1, 'credenciales_recibidas': 0}, '290351': {'distrito': '03', 'type': 'Fijo Dist.', 'days_worked': 6.5, 'hours_worked': 10.2, 'setup': 'B+1', 'tramites_aplicados': 1173, 'cards_by_update': 20, 'total_atenciones': 1193, 'numbers_by_day': 183.53846153846155, 'numbers_by_machine_by_day': 91.76923076923077, 'credenciales_recibidas': 424}, '290352': {'distrito': '03', 'type': 'Fijo Adic.', 'days_worked': 6.5, 'hours_worked': 6.5, 'setup': 'B+1', 'tramites_aplicados': 641, 'cards_by_update': 29, 'total_atenciones': 670, 'numbers_by_day': 103.07692307692308, 'numbers_by_machine_by_day': 51.53846153846154, 'credenciales_recibidas': 574}, '290353': {'distrito': '03', 'type': 'Semifijo', 'days_worked': 6.5, 'hours_worked': 6.5, 'setup': 'B+1', 'tramites_aplicados': 411, 'cards_by_update': 21, 'total_atenciones': 432, 'numbers_by_day': 66.46153846153847, 'numbers_by_machine_by_day': 33.23076923076923, 'credenciales_recibidas': 440}}\n"
     ]
    }
   ],
   "source": [
    "print(macs)"
   ]
  },
  {
   "cell_type": "code",
   "execution_count": null,
   "id": "81e7d754",
   "metadata": {},
   "outputs": [],
   "source": []
  }
 ],
 "metadata": {
  "kernelspec": {
   "display_name": "Django Shell-Plus",
   "language": "python",
   "name": "django_extensions"
  },
  "language_info": {
   "codemirror_mode": {
    "name": "ipython",
    "version": 3
   },
   "file_extension": ".py",
   "mimetype": "text/x-python",
   "name": "python",
   "nbconvert_exporter": "python",
   "pygments_lexer": "ipython3",
   "version": "3.9.6"
  }
 },
 "nbformat": 4,
 "nbformat_minor": 5
}
