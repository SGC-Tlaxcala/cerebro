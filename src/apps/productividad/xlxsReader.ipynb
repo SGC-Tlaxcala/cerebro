{
 "cells": [
  {
   "cell_type": "code",
   "execution_count": 6,
   "id": "a64d996f",
   "metadata": {
    "scrolled": true
   },
   "outputs": [],
   "source": [
    "import math\n",
    "from openpyxl import load_workbook\n",
    "from unipath import Path\n",
    "import os\n",
    "from django.core import exceptions\n",
    "\n",
    "base = Path('d:\\\\', 'Users', 'javier', 'tmp')\n",
    "r06 = Path(base, 'mac_06.xlsx')\n",
    "r07 = Path(base, 'mac_07.xlsx')\n",
    "r07b = Path(base, 'mac_07b.xlsx')\n",
    "# wb6 = load_workbook(filename = r06)\n",
    "# wb7 = load_workbook(filename = r07)\n",
    "# wb7b = load_workbook(filename = r07b)\n",
    "# ws6 = wb6['2021_06']\n",
    "# ws7 = wb7['2021_06']\n",
    "# ws7b = wb7b['2021_06']"
   ]
  },
  {
   "cell_type": "code",
   "execution_count": 7,
   "id": "9b67711c",
   "metadata": {},
   "outputs": [],
   "source": [
    "def get_int(celda):\n",
    "    \"\"\"Convierte el valor de una celda en entero\"\"\"\n",
    "    if celda.value == '':\n",
    "        return 0\n",
    "    try:\n",
    "        if celda.ctype != 2:\n",
    "            return 0\n",
    "        return math.ceil(celda.value)\n",
    "    except ValueError:\n",
    "        return 0\n",
    "\n",
    "\n",
    "def get_float(celda):\n",
    "    \"\"\"\"Convierte el valor de una celda en un número flotante\"\"\"\n",
    "    # valor = 0\n",
    "    try:\n",
    "        valor = float(celda.value)\n",
    "    except ValueError:\n",
    "        valor = 0\n",
    "    return valor"
   ]
  },
  {
   "cell_type": "code",
   "execution_count": 40,
   "id": "ff93a1e9",
   "metadata": {},
   "outputs": [],
   "source": [
    "def get_data_excel(file):\n",
    "    try: \n",
    "        wb = load_workbook(filename = file, data_only=True)\n",
    "    except Exception: \n",
    "        raise BadRequest(e)\n",
    "    ws = wb.active\n",
    "    remesa = ws['J7'].value[8:15]\n",
    "    observaciones = ws['A41'].value\n",
    "    macs = {}\n",
    "    \n",
    "    for row in range(9, 22):\n",
    "        mac = ws[row]\n",
    "        try:\n",
    "            _mac = str(mac[0].value)\n",
    "            if _mac[:3] == '290':\n",
    "                macs[_mac] = {\n",
    "                    'distrito': _mac[2:4],\n",
    "                    'type': mac[1].value,\n",
    "                    'days_worked': mac[2].value,\n",
    "                    'hours_worked': mac[3].value,\n",
    "                    'setup': mac[4].value,\n",
    "                    'tramites_aplicados': mac[5].value,\n",
    "                    'cards_by_update': mac[6].value,\n",
    "                    'total_atenciones': mac[7].value,\n",
    "                    'numbers_by_day': mac[8].value,\n",
    "                    'numbers_by_machine_by_day': mac[9].value,\n",
    "                    'credenciales_recibidas': mac[11].value\n",
    "                }\n",
    "        except ValueError:\n",
    "            pass\n",
    "    \n",
    "    return remesa, observaciones, macs\n",
    "\n",
    "r, o, macs = get_data_excel(r07b)"
   ]
  },
  {
   "cell_type": "code",
   "execution_count": 41,
   "id": "b2ad5ad8",
   "metadata": {},
   "outputs": [
    {
     "name": "stdout",
     "output_type": "stream",
     "text": [
      "2021_07\n"
     ]
    }
   ],
   "source": [
    "print(r)"
   ]
  },
  {
   "cell_type": "code",
   "execution_count": 3,
   "id": "81e7d754",
   "metadata": {},
   "outputs": [
    {
     "data": {
      "text/plain": [
       "'2021-06'"
      ]
     },
     "execution_count": 3,
     "metadata": {},
     "output_type": "execute_result"
    }
   ],
   "source": [
    "import os\n",
    "import django\n",
    "os.environ[\"DJANGO_ALLOW_ASYNC_UNSAFE\"] = \"true\"\n",
    "django.setup()\n",
    "INICIO = '2021-01-18'\n",
    "FINAL = '2021-12-31'\n",
    "\n",
    "from apps.productividad.models import Reporte\n",
    "reportes = Reporte.objects.filter(fecha_corte__gte=INICIO, fecha_corte__lte=FINAL).order_by('fecha_corte')\n",
    "reportes[0].remesa"
   ]
  },
  {
   "cell_type": "code",
   "execution_count": 4,
   "id": "aecd4dc9",
   "metadata": {},
   "outputs": [],
   "source": [
    "from apps.productividad.models import Numbers\n",
    "\n",
    "tramites = Numbers.objects\\\n",
    "            .filter(reporte_semanal__fecha_corte__year=2021)\\\n",
    "            .values('distrito')\\\n",
    "            .order_by('distrito')\\\n",
    "            .annotate(suma_modulo=Sum('tramites_aplicados'))\n",
    "\n",
    "pronostico = PronosticoTramites.objects.all().filter().filter(year=2021)\n",
    "chart_data = []\n",
    "for _distrito in ('01', '02', '03'):\n",
    "    dlist = [_distrito]\n",
    "    _tramites = 0\n",
    "    _pronostico = 0\n",
    "    for _cifras in tramites:\n",
    "        if _cifras['distrito'] == _distrito:\n",
    "            _tramites = _cifras['suma_modulo']\n",
    "            dlist.append(_tramites)\n",
    "    for _pt in pronostico:\n",
    "        if f'0{_pt.distrito}' == _distrito:\n",
    "            _pronostico = _pt.tramites\n",
    "            dlist.append(_pronostico)\n",
    "    dlist.append(_pronostico - _tramites)\n",
    "    try:\n",
    "        dlist.append((_tramites / _pronostico) * 100)\n",
    "    except ZeroDivisionError:\n",
    "        dlist.append(0)\n",
    "    chart_data.append(dlist)"
   ]
  },
  {
   "cell_type": "code",
   "execution_count": 9,
   "id": "95943588",
   "metadata": {},
   "outputs": [
    {
     "data": {
      "text/plain": [
       "-16051"
      ]
     },
     "execution_count": 9,
     "metadata": {},
     "output_type": "execute_result"
    }
   ],
   "source": [
    "sum(r[2] for r in chart_data) - sum(r[1] for r in chart_data)\n",
    "sum(r[2] for r in chart_data)"
   ]
  },
  {
   "cell_type": "code",
   "execution_count": 11,
   "id": "ad97593d",
   "metadata": {},
   "outputs": [
    {
     "data": {
      "text/plain": [
       "[['01', 5860, -5860, 0], ['02', 6294, -6294, 0], ['03', 3897, -3897, 0]]"
      ]
     },
     "execution_count": 11,
     "metadata": {},
     "output_type": "execute_result"
    }
   ],
   "source": [
    "chart_data"
   ]
  },
  {
   "cell_type": "code",
   "execution_count": 12,
   "id": "3b3b149a",
   "metadata": {},
   "outputs": [
    {
     "data": {
      "text/plain": [
       "16051"
      ]
     },
     "execution_count": 12,
     "metadata": {},
     "output_type": "execute_result"
    }
   ],
   "source": [
    "5860+6294+3897"
   ]
  },
  {
   "cell_type": "code",
   "execution_count": 13,
   "id": "d1dc2602",
   "metadata": {},
   "outputs": [],
   "source": [
    "estatal = {\n",
    "            'tramites': sum(r[1] for r in chart_data),\n",
    "            'faltantes': sum(r[2] for r in chart_data) - sum(r[1] for r in chart_data),\n",
    "            'pronostico': sum(r[2] for r in chart_data),\n",
    "            'porcentaje': (sum(r[1] for r in chart_data) / sum(r[2] for r in chart_data)) * 100\n",
    "        }"
   ]
  },
  {
   "cell_type": "code",
   "execution_count": 14,
   "id": "625f797d",
   "metadata": {},
   "outputs": [
    {
     "data": {
      "text/plain": [
       "{'tramites': 16051,\n",
       " 'faltantes': -32102,\n",
       " 'pronostico': -16051,\n",
       " 'porcentaje': -100.0}"
      ]
     },
     "execution_count": 14,
     "metadata": {},
     "output_type": "execute_result"
    }
   ],
   "source": [
    "estatal"
   ]
  },
  {
   "cell_type": "code",
   "execution_count": 16,
   "id": "563d4590",
   "metadata": {},
   "outputs": [
    {
     "data": {
      "text/plain": [
       "0"
      ]
     },
     "execution_count": 16,
     "metadata": {},
     "output_type": "execute_result"
    }
   ],
   "source": [
    "len(pronostico)"
   ]
  },
  {
   "cell_type": "code",
   "execution_count": null,
   "id": "2ed664ee",
   "metadata": {},
   "outputs": [],
   "source": [
    "\n"
   ]
  }
 ],
 "metadata": {
  "kernelspec": {
   "display_name": "Django Shell-Plus",
   "language": "python",
   "name": "django_extensions"
  },
  "language_info": {
   "codemirror_mode": {
    "name": "ipython",
    "version": 3
   },
   "file_extension": ".py",
   "mimetype": "text/x-python",
   "name": "python",
   "nbconvert_exporter": "python",
   "pygments_lexer": "ipython3",
   "version": "3.9.6"
  }
 },
 "nbformat": 4,
 "nbformat_minor": 5
}
