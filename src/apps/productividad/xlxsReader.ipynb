{
 "cells": [
  {
   "cell_type": "code",
   "execution_count": 6,
   "id": "a64d996f",
   "metadata": {
    "scrolled": true
   },
   "outputs": [],
   "source": [
    "import math\n",
    "from openpyxl import load_workbook\n",
    "from unipath import Path\n",
    "import os\n",
    "from django.core import exceptions\n",
    "\n",
    "base = Path('d:\\\\', 'Users', 'javier', 'tmp')\n",
    "r06 = Path(base, 'mac_06.xlsx')\n",
    "r07 = Path(base, 'mac_07.xlsx')\n",
    "r07b = Path(base, 'mac_07b.xlsx')\n",
    "# wb6 = load_workbook(filename = r06)\n",
    "# wb7 = load_workbook(filename = r07)\n",
    "# wb7b = load_workbook(filename = r07b)\n",
    "# ws6 = wb6['2021_06']\n",
    "# ws7 = wb7['2021_06']\n",
    "# ws7b = wb7b['2021_06']"
   ]
  },
  {
   "cell_type": "code",
   "execution_count": 7,
   "id": "9b67711c",
   "metadata": {},
   "outputs": [],
   "source": [
    "def get_int(celda):\n",
    "    \"\"\"Convierte el valor de una celda en entero\"\"\"\n",
    "    if celda.value == '':\n",
    "        return 0\n",
    "    try:\n",
    "        if celda.ctype != 2:\n",
    "            return 0\n",
    "        return math.ceil(celda.value)\n",
    "    except ValueError:\n",
    "        return 0\n",
    "\n",
    "\n",
    "def get_float(celda):\n",
    "    \"\"\"\"Convierte el valor de una celda en un número flotante\"\"\"\n",
    "    # valor = 0\n",
    "    try:\n",
    "        valor = float(celda.value)\n",
    "    except ValueError:\n",
    "        valor = 0\n",
    "    return valor"
   ]
  },
  {
   "cell_type": "code",
   "execution_count": 9,
   "id": "ff93a1e9",
   "metadata": {},
   "outputs": [
    {
     "name": "stdout",
     "output_type": "stream",
     "text": [
      "2021_06 \n",
      " En está remesa no se presento ninguna incidencia que suspendiera el servicio en los Módulos de Atención Ciudadana. \n",
      " {'290151': {'distrito': '01', 'tipo': 'Fijo Dist.', 'dias_trabajados': 6.5, 'jornada_trabajada': 10.2, 'configuracion': 'B+3', 'tramites_aplicados': 1482, 'credenciales_entregadas_actualizacion': 17, 'total_atenciones': 1499, 'productividad_x_dia': 230.6153846153846, 'productividad_x_estacion': 57.65384615384615, 'credenciales_recibidas': 1304}, '290152': {'distrito': '01', 'tipo': 'Fijo Adic.', 'dias_trabajados': 6.5, 'jornada_trabajada': 10.2, 'configuracion': 'B+2', 'tramites_aplicados': 1282, 'credenciales_entregadas_actualizacion': 68, 'total_atenciones': 1350, 'productividad_x_dia': 207.69230769230768, 'productividad_x_estacion': 69.23076923076923, 'credenciales_recibidas': 357}, '290153': {'distrito': '01', 'tipo': 'Móvil', 'dias_trabajados': 6.5, 'jornada_trabajada': 6.5, 'configuracion': 'B', 'tramites_aplicados': 330, 'credenciales_entregadas_actualizacion': 21, 'total_atenciones': 351, 'productividad_x_dia': 54, 'productividad_x_estacion': 54, 'credenciales_recibidas': 339}, '290154': {'distrito': '01', 'tipo': 'Móvil', 'dias_trabajados': 6.5, 'jornada_trabajada': 6.5, 'configuracion': 'B', 'tramites_aplicados': 211, 'credenciales_entregadas_actualizacion': 73, 'total_atenciones': 284, 'productividad_x_dia': 43.69230769230769, 'productividad_x_estacion': 43.69230769230769, 'credenciales_recibidas': 273}, '290251': {'distrito': '02', 'tipo': 'Fijo Dist.', 'dias_trabajados': 6.5, 'jornada_trabajada': 10.2, 'configuracion': 'B+5', 'tramites_aplicados': 1971, 'credenciales_entregadas_actualizacion': 16, 'total_atenciones': 1987, 'productividad_x_dia': 305.6923076923077, 'productividad_x_estacion': 50.94871794871795, 'credenciales_recibidas': 1236}, '290253': {'distrito': '02', 'tipo': 'Fijo Adic.', 'dias_trabajados': 6.5, 'jornada_trabajada': 10.2, 'configuracion': 'B+1', 'tramites_aplicados': 682, 'credenciales_entregadas_actualizacion': 132, 'total_atenciones': 814, 'productividad_x_dia': 125.23076923076923, 'productividad_x_estacion': 62.61538461538461, 'credenciales_recibidas': 332}, '290254': {'distrito': '02', 'tipo': 'Semifijo', 'dias_trabajados': 6.5, 'jornada_trabajada': 6.5, 'configuracion': 'B+1', 'tramites_aplicados': 408, 'credenciales_entregadas_actualizacion': 36, 'total_atenciones': 444, 'productividad_x_dia': 68.3076923076923, 'productividad_x_estacion': 34.15384615384615, 'credenciales_recibidas': 342}, '290291': {'distrito': '02', 'tipo': 'Móvil', 'dias_trabajados': 1, 'jornada_trabajada': 1, 'configuracion': 'B', 'tramites_aplicados': 1, 'credenciales_entregadas_actualizacion': 0, 'total_atenciones': 1, 'productividad_x_dia': 1, 'productividad_x_estacion': 1, 'credenciales_recibidas': 0}, '290351': {'distrito': '03', 'tipo': 'Fijo Dist.', 'dias_trabajados': 6.5, 'jornada_trabajada': 10.2, 'configuracion': 'B+1', 'tramites_aplicados': 1173, 'credenciales_entregadas_actualizacion': 20, 'total_atenciones': 1193, 'productividad_x_dia': 183.53846153846155, 'productividad_x_estacion': 91.76923076923077, 'credenciales_recibidas': 424}, '290352': {'distrito': '03', 'tipo': 'Fijo Adic.', 'dias_trabajados': 6.5, 'jornada_trabajada': 6.5, 'configuracion': 'B+1', 'tramites_aplicados': 641, 'credenciales_entregadas_actualizacion': 29, 'total_atenciones': 670, 'productividad_x_dia': 103.07692307692308, 'productividad_x_estacion': 51.53846153846154, 'credenciales_recibidas': 574}, '290353': {'distrito': '03', 'tipo': 'Semifijo', 'dias_trabajados': 6.5, 'jornada_trabajada': 6.5, 'configuracion': 'B+1', 'tramites_aplicados': 411, 'credenciales_entregadas_actualizacion': 21, 'total_atenciones': 432, 'productividad_x_dia': 66.46153846153847, 'productividad_x_estacion': 33.23076923076923, 'credenciales_recibidas': 440}}\n"
     ]
    }
   ],
   "source": [
    "def get_data_excel(file):\n",
    "    try: \n",
    "        wb = load_workbook(filename = file, data_only=True)\n",
    "    except Exception: \n",
    "        raise BadRequest(e)\n",
    "    ws = wb.active\n",
    "    remesa = ws['J7'].value[8:15]\n",
    "    observaciones = ws['A41'].value\n",
    "    macs = {}\n",
    "    \n",
    "    for row in range(9, 22):\n",
    "        mac = ws[row]\n",
    "        _mac = str(mac[0].value)\n",
    "        if _mac[:3] == '290':\n",
    "            macs[_mac] = {\n",
    "                'distrito': _mac[2:4],\n",
    "                'tipo': mac[1].value,\n",
    "                'dias_trabajados': mac[2].value,\n",
    "                'jornada_trabajada': mac[3].value,\n",
    "                'configuracion': mac[4].value,\n",
    "                'tramites_aplicados': mac[5].value,\n",
    "                'credenciales_entregadas_actualizacion': mac[6].value,\n",
    "                'total_atenciones': mac[7].value,\n",
    "                'productividad_x_dia': mac[8].value,\n",
    "                'productividad_x_estacion': mac[9].value,\n",
    "                'credenciales_recibidas': mac[11].value\n",
    "            }\n",
    "    \n",
    "    print(remesa, '\\n', observaciones, '\\n', macs)\n",
    "\n",
    "get_data_excel(r06)"
   ]
  },
  {
   "cell_type": "code",
   "execution_count": 28,
   "id": "b2ad5ad8",
   "metadata": {},
   "outputs": [
    {
     "name": "stdout",
     "output_type": "stream",
     "text": [
      "Remesa: 2021_06\n"
     ]
    }
   ],
   "source": []
  },
  {
   "cell_type": "code",
   "execution_count": null,
   "id": "81e7d754",
   "metadata": {},
   "outputs": [],
   "source": []
  }
 ],
 "metadata": {
  "kernelspec": {
   "display_name": "Django Shell-Plus",
   "language": "python",
   "name": "django_extensions"
  },
  "language_info": {
   "codemirror_mode": {
    "name": "ipython",
    "version": 3
   },
   "file_extension": ".py",
   "mimetype": "text/x-python",
   "name": "python",
   "nbconvert_exporter": "python",
   "pygments_lexer": "ipython3",
   "version": "3.9.6"
  }
 },
 "nbformat": 4,
 "nbformat_minor": 5
}
